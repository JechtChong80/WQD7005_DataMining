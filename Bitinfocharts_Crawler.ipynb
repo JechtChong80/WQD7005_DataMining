{
 "cells": [
  {
   "cell_type": "code",
   "execution_count": 8,
   "metadata": {},
   "outputs": [],
   "source": [
    "from selenium import webdriver\n",
    "import os\n",
    "from selenium.webdriver.common.by import By\n",
    "import time\n",
    "from selenium.webdriver.support.select import Select\n",
    "import lxml.html\n",
    "from selenium.common.exceptions import NoSuchElementException\n",
    "import requests\n",
    "from bs4 import BeautifulSoup\n",
    "import re"
   ]
  },
  {
   "cell_type": "code",
   "execution_count": 2,
   "metadata": {},
   "outputs": [],
   "source": [
    "driverLocation= \"C:\\\\Users\\\\User\\\\Desktop\\\\chromedriver.exe\"\n",
    "os.environ['webdriver.chrome.driver'] = driverLocation\n",
    "driver = webdriver.Chrome(driverLocation)\n",
    "driver.get('https://bitinfocharts.com/comparison/tweets-btc-eth-ltc.html')\n",
    "pagesource = driver.page_source\n",
    "driver.quit()"
   ]
  },
  {
   "cell_type": "code",
   "execution_count": 3,
   "metadata": {},
   "outputs": [],
   "source": [
    "soup=BeautifulSoup(pagesource,'html.parser')"
   ]
  },
  {
   "cell_type": "code",
   "execution_count": 6,
   "metadata": {},
   "outputs": [],
   "source": [
    "##TO FIND THE LOCATION OF SPECIFIC CHART_DATA SCRIPT PLACES\n",
    "\n",
    "chart_data=soup.find_all('div',)[7].find_all('script',)[2]"
   ]
  },
  {
   "cell_type": "code",
   "execution_count": 12,
   "metadata": {},
   "outputs": [],
   "source": [
    "##TO OBTAIN EXACT DATA BY USING REGEX\n",
    "\n",
    "pattern=re.compile(r'(\\w+\\W+\\w+\\W+\\w+\\W+),(\\w+),(\\w+),(\\w+)')"
   ]
  },
  {
   "cell_type": "code",
   "execution_count": 11,
   "metadata": {},
   "outputs": [],
   "source": [
    "#PARSE THE DATA INTO INDIVIDUAL COLUMNS\n",
    "Date=[]\n",
    "Btc_Tweet=[]\n",
    "Eth_Tweet=[]\n",
    "Ltc_Tweet=[]\n",
    "\n",
    "for match in re.finditer(pattern,str(chart_data)):\n",
    "    Date.append((match.group(1)[0:10]))\n",
    "    Btc_Tweet.append(match.group(2))\n",
    "    Eth_Tweet.append(match.group(3))\n",
    "    Ltc_Tweet.append(match.group(4))"
   ]
  },
  {
   "cell_type": "code",
   "execution_count": 13,
   "metadata": {},
   "outputs": [],
   "source": [
    "import pandas as pd\n",
    "df=pd.DataFrame(list(zip(Date,Btc_Tweet,Eth_Tweet,Ltc_Tweet)),\n",
    "              columns=['Date','Btc_Tweet_Count','Eth_Tweet_Count','Ltc_Tweet_Count'])"
   ]
  },
  {
   "cell_type": "code",
   "execution_count": 15,
   "metadata": {},
   "outputs": [
    {
     "data": {
      "text/html": [
       "<div>\n",
       "<style scoped>\n",
       "    .dataframe tbody tr th:only-of-type {\n",
       "        vertical-align: middle;\n",
       "    }\n",
       "\n",
       "    .dataframe tbody tr th {\n",
       "        vertical-align: top;\n",
       "    }\n",
       "\n",
       "    .dataframe thead th {\n",
       "        text-align: right;\n",
       "    }\n",
       "</style>\n",
       "<table border=\"1\" class=\"dataframe\">\n",
       "  <thead>\n",
       "    <tr style=\"text-align: right;\">\n",
       "      <th></th>\n",
       "      <th>Date</th>\n",
       "      <th>Btc_Tweet_Count</th>\n",
       "      <th>Eth_Tweet_Count</th>\n",
       "      <th>Ltc_Tweet_Count</th>\n",
       "    </tr>\n",
       "  </thead>\n",
       "  <tbody>\n",
       "    <tr>\n",
       "      <th>2051</th>\n",
       "      <td>2019/11/20</td>\n",
       "      <td>18338</td>\n",
       "      <td>4708</td>\n",
       "      <td>881</td>\n",
       "    </tr>\n",
       "    <tr>\n",
       "      <th>2052</th>\n",
       "      <td>2019/11/21</td>\n",
       "      <td>21597</td>\n",
       "      <td>4012</td>\n",
       "      <td>907</td>\n",
       "    </tr>\n",
       "    <tr>\n",
       "      <th>2053</th>\n",
       "      <td>2019/11/22</td>\n",
       "      <td>24404</td>\n",
       "      <td>4443</td>\n",
       "      <td>1083</td>\n",
       "    </tr>\n",
       "    <tr>\n",
       "      <th>2054</th>\n",
       "      <td>2019/11/23</td>\n",
       "      <td>16543</td>\n",
       "      <td>3602</td>\n",
       "      <td>926</td>\n",
       "    </tr>\n",
       "    <tr>\n",
       "      <th>2055</th>\n",
       "      <td>2019/11/24</td>\n",
       "      <td>5359</td>\n",
       "      <td>1197</td>\n",
       "      <td>295</td>\n",
       "    </tr>\n",
       "  </tbody>\n",
       "</table>\n",
       "</div>"
      ],
      "text/plain": [
       "            Date Btc_Tweet_Count Eth_Tweet_Count Ltc_Tweet_Count\n",
       "2051  2019/11/20           18338            4708             881\n",
       "2052  2019/11/21           21597            4012             907\n",
       "2053  2019/11/22           24404            4443            1083\n",
       "2054  2019/11/23           16543            3602             926\n",
       "2055  2019/11/24            5359            1197             295"
      ]
     },
     "execution_count": 15,
     "metadata": {},
     "output_type": "execute_result"
    }
   ],
   "source": [
    "df.tail()"
   ]
  },
  {
   "cell_type": "code",
   "execution_count": 16,
   "metadata": {},
   "outputs": [],
   "source": [
    "df.to_csv(\"Bitcoin_Tweet_Volume.csv\", encoding='utf-8', index=False)"
   ]
  },
  {
   "cell_type": "code",
   "execution_count": null,
   "metadata": {},
   "outputs": [],
   "source": []
  }
 ],
 "metadata": {
  "kernelspec": {
   "display_name": "Python 3",
   "language": "python",
   "name": "python3"
  },
  "language_info": {
   "codemirror_mode": {
    "name": "ipython",
    "version": 3
   },
   "file_extension": ".py",
   "mimetype": "text/x-python",
   "name": "python",
   "nbconvert_exporter": "python",
   "pygments_lexer": "ipython3",
   "version": "3.7.3"
  }
 },
 "nbformat": 4,
 "nbformat_minor": 2
}
