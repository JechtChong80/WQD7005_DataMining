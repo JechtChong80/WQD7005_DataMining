{
 "cells": [
  {
   "cell_type": "code",
   "execution_count": 1,
   "metadata": {},
   "outputs": [],
   "source": [
    "from urllib.request import urlopen\n",
    "from bs4 import BeautifulSoup\n",
    "import pandas as pd\n",
    "import csv\n",
    "\n",
    "url = \"https://cointelegraph.com/tags/cryptocurrencies\"\n",
    "web = urlopen(url)\n",
    "soup = BeautifulSoup(web)"
   ]
  },
  {
   "cell_type": "code",
   "execution_count": 2,
   "metadata": {},
   "outputs": [
    {
     "data": {
      "text/plain": [
       "['BTC Price Rebounds From $7,700: Crypto Traders Hope for Relief Rally',\n",
       " 'Employee Fined For Mining BTC on Nuclear Research Center Supercomputer',\n",
       " 'New Spyware Replaces Crypto Wallets on Clipboard via Telegram: Report',\n",
       " 'Blockchain-Based Protocol Tachyon Network Releases White Paper',\n",
       " 'AI Firm Core Scientific Acquires Creator of Mining Program Honeyminer',\n",
       " 'Facebook COO Sandberg in Talks to Testify On Libra Before The House',\n",
       " 'ECB President: Stablecoins and Crypto Not Suitable Money Substitutes',\n",
       " 'Major Coins Trading Sideways, Bitcoin Hovers Around $8,000',\n",
       " 'Bitmain to Launch Platform for Connecting Miners and Farms in October',\n",
       " 'ING Chief Economist: Libra Accelerating Central Banks’ Crypto Plans',\n",
       " 'The Reasons Why Blockchain Is Not Quite Ready for Facebook’s Dreams',\n",
       " 'Ripple Exec: Libra’s Major Flaw Is That It’s a ‘Walled Garden’',\n",
       " 'Crypto Exchange Binance Launches Dedicated Staking Platform',\n",
       " 'Scalability on Blockchain: Is There a Solution?',\n",
       " 'Loom Network Offers a Rewards Program to Its DApp Developers']"
      ]
     },
     "execution_count": 2,
     "metadata": {},
     "output_type": "execute_result"
    }
   ],
   "source": [
    "headline = soup.findAll('a',attrs={\"class\":\"post-preview-item-inline__title-link\"})\n",
    "all_headline = [s.text.strip()for s in headline]\n",
    "all_headline"
   ]
  },
  {
   "cell_type": "code",
   "execution_count": 3,
   "metadata": {},
   "outputs": [
    {
     "data": {
      "text/plain": [
       "['2019-09-28',\n",
       " '2019-09-28',\n",
       " '2019-09-28',\n",
       " '2019-09-28',\n",
       " '2019-09-28',\n",
       " '2019-09-27',\n",
       " '2019-09-27',\n",
       " '2019-09-27',\n",
       " '2019-09-27',\n",
       " '2019-09-27',\n",
       " '2019-09-27',\n",
       " '2019-09-27',\n",
       " '2019-09-27',\n",
       " '2019-09-27',\n",
       " '2019-09-27']"
      ]
     },
     "execution_count": 3,
     "metadata": {},
     "output_type": "execute_result"
    }
   ],
   "source": [
    "all_date = []\n",
    "for date in soup.findAll('time'):\n",
    "        if date.has_attr('datetime'):\n",
    "            all_date.append(date['datetime'])\n",
    "        \n",
    "all_date"
   ]
  },
  {
   "cell_type": "code",
   "execution_count": 4,
   "metadata": {},
   "outputs": [
    {
     "data": {
      "text/plain": [
       "[' Technical analysts anticipate Bitcoin’s price to recover in the short term in a relief rally following a minor rebound to $8,200. ',\n",
       " ' An employee at a nuclear research center was fined $7000 for illegally mining Bitcoin on a supercomputer. ',\n",
       " ' Internet infrastructure firm Juniper Networks finds new spyware that uses Telegram app to replace crypto addresses with its own. ',\n",
       " ' Decentralized internet protocol Tachyon Network releases its white paper, which reveals details on how the protocol is set to reconstruct the current TCP/IP mod... ',\n",
       " ' Blockchain and artificial intelligence startup Core Scientific acquires the firm that created the widely used mining program Honeyminer. ',\n",
       " ' Facebook’s chief operating officer Sheryl Sandberg is in talks to testify before the United States House about its Libra stablecoin and global market power. ',\n",
       " ' The President of the European Central Bank does not consider stablecoins and cryptocurrencies suitable money substitutes. ',\n",
       " ' Bitcoin continues to trade near $8,000, with other top 20 cryptocurrencies reporting mixed signals. ',\n",
       " ' Chinese crypto mining hardware giant Bitmain to launch its World Digital Mining Map during World Digital Mining Summit. ',\n",
       " ' The chief economist at ING says that Facebook’s plan to launch a digital currency has put pressure on central banks to launch their own. ',\n",
       " ' What problems might blockchain face leading up to Libra’s launch and how can they be solved prior to Facebook’s entry into the crypto space? ',\n",
       " ' The major flaw in Facebook’s planned cryptocurrency, Libra, is that it’s a closed system — akin to a “walled garden” — argues Ripple executive Marcus Treacher. ',\n",
       " ' Major cryptocurrency exchange Binance has launched a dedicated staking platform, allowing users to earn rewards on their token deposits. ',\n",
       " ' Scalability: It’s the one thing that could derail crypto’s ambitions to go mainstream. Is there an answer to this long-running issue? ',\n",
       " ' Loom Network launches a new bounties and rewards program that involves several bonuses worth up to $70K to grow its ecosystem. ']"
      ]
     },
     "execution_count": 4,
     "metadata": {},
     "output_type": "execute_result"
    }
   ],
   "source": [
    "content  = soup.findAll('p',attrs={\"class\":\"post-preview-item-inline__text\"})\n",
    "all_content = [s1.text for s1 in content]\n",
    "all_content"
   ]
  },
  {
   "cell_type": "code",
   "execution_count": 5,
   "metadata": {},
   "outputs": [
    {
     "data": {
      "text/html": [
       "<div>\n",
       "<style scoped>\n",
       "    .dataframe tbody tr th:only-of-type {\n",
       "        vertical-align: middle;\n",
       "    }\n",
       "\n",
       "    .dataframe tbody tr th {\n",
       "        vertical-align: top;\n",
       "    }\n",
       "\n",
       "    .dataframe thead th {\n",
       "        text-align: right;\n",
       "    }\n",
       "</style>\n",
       "<table border=\"1\" class=\"dataframe\">\n",
       "  <thead>\n",
       "    <tr style=\"text-align: right;\">\n",
       "      <th></th>\n",
       "      <th>Article Headlines</th>\n",
       "      <th>Article Date</th>\n",
       "      <th>Article Content</th>\n",
       "    </tr>\n",
       "  </thead>\n",
       "  <tbody>\n",
       "    <tr>\n",
       "      <th>0</th>\n",
       "      <td>BTC Price Rebounds From $7,700: Crypto Traders...</td>\n",
       "      <td>2019-09-28</td>\n",
       "      <td>Technical analysts anticipate Bitcoin’s price...</td>\n",
       "    </tr>\n",
       "    <tr>\n",
       "      <th>1</th>\n",
       "      <td>Employee Fined For Mining BTC on Nuclear Resea...</td>\n",
       "      <td>2019-09-28</td>\n",
       "      <td>An employee at a nuclear research center was ...</td>\n",
       "    </tr>\n",
       "    <tr>\n",
       "      <th>2</th>\n",
       "      <td>New Spyware Replaces Crypto Wallets on Clipboa...</td>\n",
       "      <td>2019-09-28</td>\n",
       "      <td>Internet infrastructure firm Juniper Networks...</td>\n",
       "    </tr>\n",
       "    <tr>\n",
       "      <th>3</th>\n",
       "      <td>Blockchain-Based Protocol Tachyon Network Rele...</td>\n",
       "      <td>2019-09-28</td>\n",
       "      <td>Decentralized internet protocol Tachyon Netwo...</td>\n",
       "    </tr>\n",
       "    <tr>\n",
       "      <th>4</th>\n",
       "      <td>AI Firm Core Scientific Acquires Creator of Mi...</td>\n",
       "      <td>2019-09-28</td>\n",
       "      <td>Blockchain and artificial intelligence startu...</td>\n",
       "    </tr>\n",
       "    <tr>\n",
       "      <th>5</th>\n",
       "      <td>Facebook COO Sandberg in Talks to Testify On L...</td>\n",
       "      <td>2019-09-27</td>\n",
       "      <td>Facebook’s chief operating officer Sheryl San...</td>\n",
       "    </tr>\n",
       "    <tr>\n",
       "      <th>6</th>\n",
       "      <td>ECB President: Stablecoins and Crypto Not Suit...</td>\n",
       "      <td>2019-09-27</td>\n",
       "      <td>The President of the European Central Bank do...</td>\n",
       "    </tr>\n",
       "    <tr>\n",
       "      <th>7</th>\n",
       "      <td>Major Coins Trading Sideways, Bitcoin Hovers A...</td>\n",
       "      <td>2019-09-27</td>\n",
       "      <td>Bitcoin continues to trade near $8,000, with ...</td>\n",
       "    </tr>\n",
       "    <tr>\n",
       "      <th>8</th>\n",
       "      <td>Bitmain to Launch Platform for Connecting Mine...</td>\n",
       "      <td>2019-09-27</td>\n",
       "      <td>Chinese crypto mining hardware giant Bitmain ...</td>\n",
       "    </tr>\n",
       "    <tr>\n",
       "      <th>9</th>\n",
       "      <td>ING Chief Economist: Libra Accelerating Centra...</td>\n",
       "      <td>2019-09-27</td>\n",
       "      <td>The chief economist at ING says that Facebook...</td>\n",
       "    </tr>\n",
       "    <tr>\n",
       "      <th>10</th>\n",
       "      <td>The Reasons Why Blockchain Is Not Quite Ready ...</td>\n",
       "      <td>2019-09-27</td>\n",
       "      <td>What problems might blockchain face leading u...</td>\n",
       "    </tr>\n",
       "    <tr>\n",
       "      <th>11</th>\n",
       "      <td>Ripple Exec: Libra’s Major Flaw Is That It’s a...</td>\n",
       "      <td>2019-09-27</td>\n",
       "      <td>The major flaw in Facebook’s planned cryptocu...</td>\n",
       "    </tr>\n",
       "    <tr>\n",
       "      <th>12</th>\n",
       "      <td>Crypto Exchange Binance Launches Dedicated Sta...</td>\n",
       "      <td>2019-09-27</td>\n",
       "      <td>Major cryptocurrency exchange Binance has lau...</td>\n",
       "    </tr>\n",
       "    <tr>\n",
       "      <th>13</th>\n",
       "      <td>Scalability on Blockchain: Is There a Solution?</td>\n",
       "      <td>2019-09-27</td>\n",
       "      <td>Scalability: It’s the one thing that could de...</td>\n",
       "    </tr>\n",
       "    <tr>\n",
       "      <th>14</th>\n",
       "      <td>Loom Network Offers a Rewards Program to Its D...</td>\n",
       "      <td>2019-09-27</td>\n",
       "      <td>Loom Network launches a new bounties and rewa...</td>\n",
       "    </tr>\n",
       "  </tbody>\n",
       "</table>\n",
       "</div>"
      ],
      "text/plain": [
       "                                    Article Headlines Article Date  \\\n",
       "0   BTC Price Rebounds From $7,700: Crypto Traders...   2019-09-28   \n",
       "1   Employee Fined For Mining BTC on Nuclear Resea...   2019-09-28   \n",
       "2   New Spyware Replaces Crypto Wallets on Clipboa...   2019-09-28   \n",
       "3   Blockchain-Based Protocol Tachyon Network Rele...   2019-09-28   \n",
       "4   AI Firm Core Scientific Acquires Creator of Mi...   2019-09-28   \n",
       "5   Facebook COO Sandberg in Talks to Testify On L...   2019-09-27   \n",
       "6   ECB President: Stablecoins and Crypto Not Suit...   2019-09-27   \n",
       "7   Major Coins Trading Sideways, Bitcoin Hovers A...   2019-09-27   \n",
       "8   Bitmain to Launch Platform for Connecting Mine...   2019-09-27   \n",
       "9   ING Chief Economist: Libra Accelerating Centra...   2019-09-27   \n",
       "10  The Reasons Why Blockchain Is Not Quite Ready ...   2019-09-27   \n",
       "11  Ripple Exec: Libra’s Major Flaw Is That It’s a...   2019-09-27   \n",
       "12  Crypto Exchange Binance Launches Dedicated Sta...   2019-09-27   \n",
       "13    Scalability on Blockchain: Is There a Solution?   2019-09-27   \n",
       "14  Loom Network Offers a Rewards Program to Its D...   2019-09-27   \n",
       "\n",
       "                                      Article Content  \n",
       "0    Technical analysts anticipate Bitcoin’s price...  \n",
       "1    An employee at a nuclear research center was ...  \n",
       "2    Internet infrastructure firm Juniper Networks...  \n",
       "3    Decentralized internet protocol Tachyon Netwo...  \n",
       "4    Blockchain and artificial intelligence startu...  \n",
       "5    Facebook’s chief operating officer Sheryl San...  \n",
       "6    The President of the European Central Bank do...  \n",
       "7    Bitcoin continues to trade near $8,000, with ...  \n",
       "8    Chinese crypto mining hardware giant Bitmain ...  \n",
       "9    The chief economist at ING says that Facebook...  \n",
       "10   What problems might blockchain face leading u...  \n",
       "11   The major flaw in Facebook’s planned cryptocu...  \n",
       "12   Major cryptocurrency exchange Binance has lau...  \n",
       "13   Scalability: It’s the one thing that could de...  \n",
       "14   Loom Network launches a new bounties and rewa...  "
      ]
     },
     "execution_count": 5,
     "metadata": {},
     "output_type": "execute_result"
    }
   ],
   "source": [
    "df = pd.DataFrame({'Article Headlines':all_headline,'Article Date':all_date,'Article Content':all_content})\n",
    "df"
   ]
  },
  {
   "cell_type": "code",
   "execution_count": null,
   "metadata": {},
   "outputs": [],
   "source": [
    "#To be only runned once\n",
    "df.to_csv('cryptocurrency_news.csv', sep=',', encoding='utf-8',index=False)"
   ]
  },
  {
   "cell_type": "code",
   "execution_count": null,
   "metadata": {},
   "outputs": [],
   "source": [
    "#Append any consecutive scrapped data from website to the existing csv file\n",
    "#When running this line, csv file must be closed\n",
    "df.to_csv('cryptocurrency_news.csv', mode='a', header=False, sep=',', index=False)"
   ]
  }
 ],
 "metadata": {
  "kernelspec": {
   "display_name": "Python 3",
   "language": "python",
   "name": "python3"
  },
  "language_info": {
   "codemirror_mode": {
    "name": "ipython",
    "version": 3
   },
   "file_extension": ".py",
   "mimetype": "text/x-python",
   "name": "python",
   "nbconvert_exporter": "python",
   "pygments_lexer": "ipython3",
   "version": "3.7.3"
  }
 },
 "nbformat": 4,
 "nbformat_minor": 2
}
