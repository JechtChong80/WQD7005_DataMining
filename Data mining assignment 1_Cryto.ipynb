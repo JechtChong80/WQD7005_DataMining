{
 "cells": [
  {
   "cell_type": "code",
   "execution_count": null,
   "metadata": {},
   "outputs": [],
   "source": [
    "from urllib.request import urlopen\n",
    "from bs4 import BeautifulSoup\n",
    "import time \n",
    "import pandas as pd\n",
    "import csv\n",
    "\n",
    "base_url = ['btc','eth','xrp','bcc','ltc','eos','usdt','bnb','bsv','ada','xmr','xlm','trx','dash','miota','etc','neo','link',\n",
    "            'xem','zec','doge','bat','dcr','qtum','btg','omg','kcs','rep','lsk','waves','zrx','icx','bts','net','bcn','dgb',\n",
    "            'maid','btm','mona','kmd','sc','xvg','rhoc','ardr','gnt','ae','etp','wtc','enj','mco','steem','snt','xzc','dtr','nxt']\n",
    "new_data =[]\n",
    "\n",
    "for letter in base_url:\n",
    "    url = \"https://markets.businessinsider.com/currencies/\" + letter + \"-usd\"\n",
    "    \n",
    "    page = urlopen(url)\n",
    "    time.sleep(5)\n",
    "    soup = BeautifulSoup(page)\n",
    "    cryptoList = soup.find('div',attrs={\"class\":\"table-responsive drop-up-enabled\"})\n",
    "    crypto = cryptoList.findAll('div',attrs={\"class\":\"col-md-3 col-xs-6 text-right bold black\"})\n",
    "    \n",
    "    #Strip the html tags from the content\n",
    "    data = [s.text.strip()for s in crypto]\n",
    "    \n",
    "    new_data.append(data)"
   ]
  },
  {
   "cell_type": "code",
   "execution_count": null,
   "metadata": {},
   "outputs": [],
   "source": [
    "df = pd.DataFrame({'BTC':new_data[0],'ETH':new_data[1],'XRP':new_data[2],'BCC':new_data[3],'LTC':new_data[4],'EOS':new_data[5]\n",
    "                  ,'USDT':new_data[6],'BNB':new_data[7],'BSV':new_data[8],'ADA':new_data[9],'XMR':new_data[10],'XLM':new_data[11]\n",
    "                  ,'TRX':new_data[12],'DASH':new_data[13],'MIOTA':new_data[14],'ETC':new_data[15],'NEO':new_data[16],'LINK':new_data[17]\n",
    "                  ,'XEM':new_data[18],'ZEC':new_data[19],'DOGE':new_data[20],'BAT':new_data[21],'DCR':new_data[22],'QTUM':new_data[23]\n",
    "                  ,'BTG':new_data[24],'OMG':new_data[25],'KCS':new_data[26],'REP':new_data[27],'LSK':new_data[28],'WAVES':new_data[29]\n",
    "                  ,'ZRX':new_data[30],'ICX':new_data[31],'BTS':new_data[32],'NET':new_data[33],'BCN':new_data[34],'DGB':new_data[35]\n",
    "                  ,'MAID':new_data[36],'BTM':new_data[37],'MONA':new_data[38],'KMD':new_data[39],'SC':new_data[40],'XVG':new_data[41]\n",
    "                  ,'RHOC':new_data[42],'ARDR':new_data[43],'GNT':new_data[44],'AE':new_data[45],'ETP':new_data[46],'WTC':new_data[47]\n",
    "                  ,'ENJ':new_data[48],'MCO':new_data[49],'STEEM':new_data[50],'SNT':new_data[51],'XZC':new_data[52],'DTR':new_data[53],'NXT':new_data[54]})\n",
    "print (df)\n"
   ]
  },
  {
   "cell_type": "code",
   "execution_count": null,
   "metadata": {},
   "outputs": [],
   "source": [
    "new_df = df.transpose().reset_index().rename(columns={'index':'Crypto'})\n",
    "new_df.columns = ['CryptoCurrency Type','Trade Time(US Time)','Daily High','Trade Date','Daily Low','Open','52-Week High','Prev.Close','52-Week Low'\n",
    "                         ,'Market Cap','Volume','Circ.Supply','Max.Supply'] \n",
    "new_df"
   ]
  },
  {
   "cell_type": "code",
   "execution_count": null,
   "metadata": {},
   "outputs": [],
   "source": [
    "#To be only runned once\n",
    "new_df.to_csv('cryptocurrency_prices.csv', sep=',', encoding='utf-8',index=False)"
   ]
  },
  {
   "cell_type": "code",
   "execution_count": null,
   "metadata": {},
   "outputs": [],
   "source": [
    "#Append any consecutive scrapped data from website to the existing csv file\n",
    "#When running this line, csv file must be closed\n",
    "new_df.to_csv('cryptocurrency_prices.csv', mode='a', header=False, sep=',', index=False)"
   ]
  }
 ],
 "metadata": {
  "kernelspec": {
   "display_name": "Python 3",
   "language": "python",
   "name": "python3"
  },
  "language_info": {
   "codemirror_mode": {
    "name": "ipython",
    "version": 3
   },
   "file_extension": ".py",
   "mimetype": "text/x-python",
   "name": "python",
   "nbconvert_exporter": "python",
   "pygments_lexer": "ipython3",
   "version": "3.7.3"
  }
 },
 "nbformat": 4,
 "nbformat_minor": 2
}
